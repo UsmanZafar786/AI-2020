{
 "cells": [
  {
   "cell_type": "code",
   "execution_count": 3,
   "metadata": {},
   "outputs": [
    {
     "name": "stdout",
     "output_type": "stream",
     "text": [
      "We are pakistan we love pakistan\n"
     ]
    }
   ],
   "source": [
    "a = \"We are Pakistan we love PAKISTAN\"\n",
    "print(a.capitalize())"
   ]
  },
  {
   "cell_type": "code",
   "execution_count": 11,
   "metadata": {
    "scrolled": true
   },
   "outputs": [
    {
     "name": "stdout",
     "output_type": "stream",
     "text": [
      "We are Pakistan we love PAKISTAN\n"
     ]
    }
   ],
   "source": [
    "a = \"We are Pakistan we love PAKISTAN\"\n",
    "print(a.center(9))"
   ]
  },
  {
   "cell_type": "code",
   "execution_count": 14,
   "metadata": {},
   "outputs": [
    {
     "name": "stdout",
     "output_type": "stream",
     "text": [
      "1\n"
     ]
    }
   ],
   "source": [
    "a = \"We are Pakistan we love PAKISTAN\"\n",
    "print(a.count(\"Pakistan\"))"
   ]
  },
  {
   "cell_type": "code",
   "execution_count": 16,
   "metadata": {},
   "outputs": [
    {
     "name": "stdout",
     "output_type": "stream",
     "text": [
      "We are Pakistan we love PAKISTAN\n"
     ]
    }
   ],
   "source": [
    "a = \"We are Pakistan we love PAKISTAN\"\n",
    "print(a.decode())"
   ]
  },
  {
   "cell_type": "code",
   "execution_count": 17,
   "metadata": {},
   "outputs": [
    {
     "name": "stdout",
     "output_type": "stream",
     "text": [
      "We are Pakistan we love PAKISTAN\n"
     ]
    }
   ],
   "source": [
    "a = \"We are Pakistan we love PAKISTAN\"\n",
    "print(a.encode())"
   ]
  },
  {
   "cell_type": "code",
   "execution_count": 100,
   "metadata": {},
   "outputs": [
    {
     "data": {
      "text/plain": [
       "False"
      ]
     },
     "execution_count": 100,
     "metadata": {},
     "output_type": "execute_result"
    }
   ],
   "source": [
    "\"Hello world\".endswith(\"wo\")"
   ]
  },
  {
   "cell_type": "code",
   "execution_count": 23,
   "metadata": {},
   "outputs": [
    {
     "name": "stdout",
     "output_type": "stream",
     "text": [
      "We are Pakistan we love PAKISTAN\n"
     ]
    }
   ],
   "source": [
    "a = \"We are Pakistan we love PAKISTAN\"\n",
    "print(a.expandtabs())"
   ]
  },
  {
   "cell_type": "code",
   "execution_count": 24,
   "metadata": {},
   "outputs": [
    {
     "name": "stdout",
     "output_type": "stream",
     "text": [
      "16\n"
     ]
    }
   ],
   "source": [
    "a = \"We are Pakistan we love PAKISTAN\"\n",
    "print(a.find(\"we\"))"
   ]
  },
  {
   "cell_type": "code",
   "execution_count": 26,
   "metadata": {},
   "outputs": [
    {
     "name": "stdout",
     "output_type": "stream",
     "text": [
      "We are Pakistan we love PAKISTAN\n"
     ]
    }
   ],
   "source": [
    "a = \"We are Pakistan we love PAKISTAN\"\n",
    "print(a.format())"
   ]
  },
  {
   "cell_type": "code",
   "execution_count": 29,
   "metadata": {},
   "outputs": [
    {
     "name": "stdout",
     "output_type": "stream",
     "text": [
      "19\n"
     ]
    }
   ],
   "source": [
    "a = \"We are Pakistan we love PAKISTAN\"\n",
    "print(a.index(\"love\"))"
   ]
  },
  {
   "cell_type": "code",
   "execution_count": 31,
   "metadata": {},
   "outputs": [
    {
     "name": "stdout",
     "output_type": "stream",
     "text": [
      "False\n"
     ]
    }
   ],
   "source": [
    "a = \"We are Pakistan we love PAKISTAN\"\n",
    "print(a.isalnum())"
   ]
  },
  {
   "cell_type": "code",
   "execution_count": 32,
   "metadata": {},
   "outputs": [
    {
     "name": "stdout",
     "output_type": "stream",
     "text": [
      "False\n"
     ]
    }
   ],
   "source": [
    "a = \"We are Pakistan we love PAKISTAN\"\n",
    "print(a.isalpha())"
   ]
  },
  {
   "cell_type": "code",
   "execution_count": 34,
   "metadata": {},
   "outputs": [
    {
     "name": "stdout",
     "output_type": "stream",
     "text": [
      "False\n"
     ]
    }
   ],
   "source": [
    "a = \"We are Pakistan we love PAKISTAN\"\n",
    "print(a.isdigit())"
   ]
  },
  {
   "cell_type": "code",
   "execution_count": 35,
   "metadata": {},
   "outputs": [
    {
     "name": "stdout",
     "output_type": "stream",
     "text": [
      "False\n"
     ]
    }
   ],
   "source": [
    "a = \"We are Pakistan we love PAKISTAN\"\n",
    "print(a.islower())"
   ]
  },
  {
   "cell_type": "code",
   "execution_count": 36,
   "metadata": {},
   "outputs": [
    {
     "name": "stdout",
     "output_type": "stream",
     "text": [
      "False\n"
     ]
    }
   ],
   "source": [
    "a = \"We are Pakistan we love PAKISTAN\"\n",
    "print(a.isspace())"
   ]
  },
  {
   "cell_type": "code",
   "execution_count": 38,
   "metadata": {},
   "outputs": [
    {
     "name": "stdout",
     "output_type": "stream",
     "text": [
      "False\n"
     ]
    }
   ],
   "source": [
    "a = \"PAKISTAN\"\n",
    "print(a.istitle())"
   ]
  },
  {
   "cell_type": "code",
   "execution_count": 41,
   "metadata": {},
   "outputs": [
    {
     "name": "stdout",
     "output_type": "stream",
     "text": [
      "True\n"
     ]
    }
   ],
   "source": [
    "a = \"PAKISTAN\"\n",
    "print(a.isupper())"
   ]
  },
  {
   "cell_type": "code",
   "execution_count": 45,
   "metadata": {},
   "outputs": [
    {
     "name": "stdout",
     "output_type": "stream",
     "text": [
      "wWe are Pakistan we love PAKISTANe\n"
     ]
    }
   ],
   "source": [
    "a = \"We are Pakistan we love PAKISTAN\"\n",
    "print(a.join(\"we\"))"
   ]
  },
  {
   "cell_type": "code",
   "execution_count": 52,
   "metadata": {},
   "outputs": [
    {
     "name": "stdout",
     "output_type": "stream",
     "text": [
      "We are Pakistan we love PAKISTAN\n"
     ]
    }
   ],
   "source": [
    "a = \"We are Pakistan we love PAKISTAN\"\n",
    "print(a.ljust(5))"
   ]
  },
  {
   "cell_type": "code",
   "execution_count": 53,
   "metadata": {},
   "outputs": [
    {
     "name": "stdout",
     "output_type": "stream",
     "text": [
      "we are pakistan we love pakistan\n"
     ]
    }
   ],
   "source": [
    "a = \"We are Pakistan we love PAKISTAN\"\n",
    "print(a.lower())"
   ]
  },
  {
   "cell_type": "code",
   "execution_count": 56,
   "metadata": {},
   "outputs": [
    {
     "name": "stdout",
     "output_type": "stream",
     "text": [
      "We are Pakistan we love PAKISTAN\n",
      "36\n",
      "32\n"
     ]
    }
   ],
   "source": [
    "a = \"    We are Pakistan we love PAKISTAN\"\n",
    "print(a.lstrip())\n",
    "print(len(a))\n",
    "print(len(a.lstrip()))\n"
   ]
  },
  {
   "cell_type": "code",
   "execution_count": 58,
   "metadata": {},
   "outputs": [
    {
     "name": "stdout",
     "output_type": "stream",
     "text": [
      "('We are ', 'Pakistan', ' we love PAKISTAN')\n"
     ]
    }
   ],
   "source": [
    "a = \"We are Pakistan we love PAKISTAN\"\n",
    "print(a.partition(\"Pakistan\"))"
   ]
  },
  {
   "cell_type": "code",
   "execution_count": 59,
   "metadata": {},
   "outputs": [
    {
     "name": "stdout",
     "output_type": "stream",
     "text": [
      "we are Pakistan we love PAKISTAN\n"
     ]
    }
   ],
   "source": [
    "a = \"We are Pakistan we love PAKISTAN\"\n",
    "print(a.replace(\"We\",\"we\"))"
   ]
  },
  {
   "cell_type": "code",
   "execution_count": 61,
   "metadata": {},
   "outputs": [
    {
     "name": "stdout",
     "output_type": "stream",
     "text": [
      "16\n"
     ]
    }
   ],
   "source": [
    "a = \"We are Pakistan we love PAKISTAN\"\n",
    "print(a.rfind(\"we\"))"
   ]
  },
  {
   "cell_type": "code",
   "execution_count": 62,
   "metadata": {},
   "outputs": [
    {
     "name": "stdout",
     "output_type": "stream",
     "text": [
      "16\n"
     ]
    }
   ],
   "source": [
    "a = \"We are Pakistan we love PAKISTAN\"\n",
    "print(a.rindex(\"we\"))"
   ]
  },
  {
   "cell_type": "code",
   "execution_count": 68,
   "metadata": {},
   "outputs": [
    {
     "name": "stdout",
     "output_type": "stream",
     "text": [
      "We are Pakistan we love PAKISTAN\n"
     ]
    }
   ],
   "source": [
    "a = \"We are Pakistan we love PAKISTAN\"\n",
    "print(a.rjust(9))"
   ]
  },
  {
   "cell_type": "code",
   "execution_count": 70,
   "metadata": {},
   "outputs": [
    {
     "name": "stdout",
     "output_type": "stream",
     "text": [
      "('We are Pakistan ', 'we', ' love PAKISTAN')\n"
     ]
    }
   ],
   "source": [
    "a = \"We are Pakistan we love PAKISTAN\"\n",
    "print(a.rpartition(\"we\"))"
   ]
  },
  {
   "cell_type": "code",
   "execution_count": 71,
   "metadata": {},
   "outputs": [
    {
     "name": "stdout",
     "output_type": "stream",
     "text": [
      "['We are Pakistan ', ' love PAKISTAN']\n"
     ]
    }
   ],
   "source": [
    "a = \"We are Pakistan we love PAKISTAN\"\n",
    "print(a.rsplit(\"we\"))"
   ]
  },
  {
   "cell_type": "code",
   "execution_count": 72,
   "metadata": {},
   "outputs": [
    {
     "name": "stdout",
     "output_type": "stream",
     "text": [
      "We are Pakistan we love PAKISTAN\n"
     ]
    }
   ],
   "source": [
    "a = \"We are Pakistan we love PAKISTAN\"\n",
    "print(a.rstrip(\"we\"))"
   ]
  },
  {
   "cell_type": "code",
   "execution_count": 73,
   "metadata": {},
   "outputs": [
    {
     "name": "stdout",
     "output_type": "stream",
     "text": [
      "['We are Pakistan ', ' love PAKISTAN']\n"
     ]
    }
   ],
   "source": [
    "a = \"We are Pakistan we love PAKISTAN\"\n",
    "print(a.split(\"we\"))"
   ]
  },
  {
   "cell_type": "code",
   "execution_count": 76,
   "metadata": {},
   "outputs": [
    {
     "name": "stdout",
     "output_type": "stream",
     "text": [
      "['We are Pakistan we love PAKISTAN']\n"
     ]
    }
   ],
   "source": [
    "a = \"We are Pakistan we love PAKISTAN\"\n",
    "print(a.splitlines(9))"
   ]
  },
  {
   "cell_type": "code",
   "execution_count": 98,
   "metadata": {},
   "outputs": [
    {
     "data": {
      "text/plain": [
       "True"
      ]
     },
     "execution_count": 98,
     "metadata": {},
     "output_type": "execute_result"
    }
   ],
   "source": [
    "#startwidth\n",
    "\"Hello world\".startswith(\"He\")\n"
   ]
  },
  {
   "cell_type": "code",
   "execution_count": 80,
   "metadata": {},
   "outputs": [
    {
     "name": "stdout",
     "output_type": "stream",
     "text": [
      "We are Pakistan we love PAKISTAN\n"
     ]
    }
   ],
   "source": [
    "a = \"We are Pakistan we love PAKISTAN\"\n",
    "print(a.strip(\"we\"))"
   ]
  },
  {
   "cell_type": "code",
   "execution_count": 82,
   "metadata": {},
   "outputs": [
    {
     "name": "stdout",
     "output_type": "stream",
     "text": [
      "wE ARE pAKISTAN WE LOVE pakistan\n"
     ]
    }
   ],
   "source": [
    "a = \"We are Pakistan we love PAKISTAN\"\n",
    "print(a.swapcase())"
   ]
  },
  {
   "cell_type": "code",
   "execution_count": null,
   "metadata": {},
   "outputs": [],
   "source": [
    "#translate"
   ]
  },
  {
   "cell_type": "code",
   "execution_count": 84,
   "metadata": {},
   "outputs": [
    {
     "name": "stdout",
     "output_type": "stream",
     "text": [
      "We Are Pakistan We Love Pakistan\n"
     ]
    }
   ],
   "source": [
    "a = \"We are Pakistan we love PAKISTAN\"\n",
    "print(a.title())"
   ]
  },
  {
   "cell_type": "code",
   "execution_count": 89,
   "metadata": {},
   "outputs": [
    {
     "name": "stdout",
     "output_type": "stream",
     "text": [
      "WE ARE PAKISTAN WE LOVE PAKISTAN\n"
     ]
    }
   ],
   "source": [
    "a = \"We are Pakistan we love PAKISTAN\"\n",
    "print(a.upper())"
   ]
  },
  {
   "cell_type": "code",
   "execution_count": 91,
   "metadata": {},
   "outputs": [
    {
     "name": "stdout",
     "output_type": "stream",
     "text": [
      "We are Pakistan we love PAKISTAN\n"
     ]
    }
   ],
   "source": [
    "a = \"We are Pakistan we love PAKISTAN\"\n",
    "print(a.zfill(8))"
   ]
  },
  {
   "cell_type": "code",
   "execution_count": null,
   "metadata": {},
   "outputs": [],
   "source": []
  }
 ],
 "metadata": {
  "kernelspec": {
   "display_name": "Python 2",
   "language": "python",
   "name": "python2"
  },
  "language_info": {
   "codemirror_mode": {
    "name": "ipython",
    "version": 2
   },
   "file_extension": ".py",
   "mimetype": "text/x-python",
   "name": "python",
   "nbconvert_exporter": "python",
   "pygments_lexer": "ipython2",
   "version": "2.7.16"
  }
 },
 "nbformat": 4,
 "nbformat_minor": 2
}
